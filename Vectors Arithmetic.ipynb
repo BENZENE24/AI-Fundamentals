{
 "cells": [
  {
   "cell_type": "code",
   "execution_count": 1,
   "id": "9d75508d-0c4f-4847-b9cb-c2360c9ac164",
   "metadata": {},
   "outputs": [
    {
     "data": {
      "text/plain": [
       "3.0"
      ]
     },
     "execution_count": 1,
     "metadata": {},
     "output_type": "execute_result"
    }
   ],
   "source": [
    "import numpy as np\n",
    "x = [3,0]\n",
    "np.linalg.norm(x)"
   ]
  },
  {
   "cell_type": "code",
   "execution_count": 3,
   "id": "a6979e50-60a6-47ac-b5a8-f66d00953d6e",
   "metadata": {},
   "outputs": [
    {
     "name": "stdout",
     "output_type": "stream",
     "text": [
      "[0.6 0.8]\n"
     ]
    }
   ],
   "source": [
    "import numpy as np #Compute the direction of a vector x.\n",
    "def direction(x):\n",
    "    return x/np.linalg.norm(x)\n",
    "\n",
    "u = np.array([3,4])\n",
    "w = direction(u)\n",
    "print(w) #[0.6, 0.8]"
   ]
  },
  {
   "cell_type": "code",
   "execution_count": 24,
   "id": "e71fdb46-9583-4c69-a235-5441da7a5cc1",
   "metadata": {},
   "outputs": [
    {
     "name": "stdout",
     "output_type": "stream",
     "text": [
      "34.00000000000001\n"
     ]
    }
   ],
   "source": [
    "import math\n",
    "import numpy as np\n",
    "\n",
    "def geometric_dot_product(x, y, theta):\n",
    "    x_norm = np.linalg.norm(x)\n",
    "    y_norm = np.linalg.norm(y)\n",
    "    return x_norm * y_norm * math.cos(math.radians(theta))\n",
    "\n",
    "x = [3, 5]  # Example vector x\n",
    "y = [8, 2]  # Example vector y\n",
    "theta = 45  # Angle between vectors in degrees\n",
    "\n",
    "# Call the function and print the result\n",
    "print(geometric_dot_product(x, y, theta))\n",
    "    "
   ]
  },
  {
   "cell_type": "code",
   "execution_count": null,
   "id": "fde93cda-8505-4b17-9acb-1e3ae6ca07cf",
   "metadata": {},
   "outputs": [],
   "source": []
  },
  {
   "cell_type": "code",
   "execution_count": 16,
   "id": "5c1da2a7-8606-44be-9022-7445ee031886",
   "metadata": {},
   "outputs": [
    {
     "ename": "NameError",
     "evalue": "name 'geometric_dot_product' is not defined",
     "output_type": "error",
     "traceback": [
      "\u001b[1;31m---------------------------------------------------------------------------\u001b[0m",
      "\u001b[1;31mNameError\u001b[0m                                 Traceback (most recent call last)",
      "Cell \u001b[1;32mIn[16], line 6\u001b[0m\n\u001b[0;32m      3\u001b[0m theta \u001b[38;5;241m=\u001b[39m \u001b[38;5;241m45\u001b[39m  \u001b[38;5;66;03m# Angle between vectors in degrees\u001b[39;00m\n\u001b[0;32m      5\u001b[0m \u001b[38;5;66;03m# Call the function and print the result\u001b[39;00m\n\u001b[1;32m----> 6\u001b[0m \u001b[38;5;28mprint\u001b[39m(geometric_dot_product(x, y, theta))\n",
      "\u001b[1;31mNameError\u001b[0m: name 'geometric_dot_product' is not defined"
     ]
    }
   ],
   "source": [
    "x = [3, 5]  # Example vector x\n",
    "y = [8, 2]  # Example vector y\n",
    "theta = 45  # Angle between vectors in degrees\n",
    "\n",
    "# Call the function and print the result\n",
    "print(geometric_dot_product(x, y, theta))"
   ]
  },
  {
   "cell_type": "code",
   "execution_count": null,
   "id": "208b4f25-3d3c-4e4c-a4d4-db6273988231",
   "metadata": {},
   "outputs": [],
   "source": []
  }
 ],
 "metadata": {
  "kernelspec": {
   "display_name": "Python [conda env:base] *",
   "language": "python",
   "name": "conda-base-py"
  },
  "language_info": {
   "codemirror_mode": {
    "name": "ipython",
    "version": 3
   },
   "file_extension": ".py",
   "mimetype": "text/x-python",
   "name": "python",
   "nbconvert_exporter": "python",
   "pygments_lexer": "ipython3",
   "version": "3.12.7"
  }
 },
 "nbformat": 4,
 "nbformat_minor": 5
}
